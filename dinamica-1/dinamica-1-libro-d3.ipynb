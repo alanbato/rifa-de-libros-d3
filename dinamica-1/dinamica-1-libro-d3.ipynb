{
 "cells": [
  {
   "cell_type": "markdown",
   "metadata": {},
   "source": [
    "# Leyendo replies, retuits y likes \n",
    "\n",
    "<details>\n",
    "    <summary><strong>Meta:</strong></summary>\n",
    "    Crear una lista de personas que contestaron a el tweet del concurso: https://twitter.com/tacosdedatos/status/1129044268759289858\n",
    "</details>\n",
    "\n",
    "<details>\n",
    "    <summary><strong>Contexto:</strong></summary>\n",
    "    Las reglas de concurso eran simples: 1) darle like y retuit a el tuit del concurso y 2) contestar el tweet con una visualización de datos en espanñol o portugués.\n",
    "</details>"
   ]
  },
  {
   "cell_type": "code",
   "execution_count": 1,
   "metadata": {},
   "outputs": [
    {
     "name": "stdout",
     "output_type": "stream",
     "text": [
      "17-May-19 a las 12:00:42\n"
     ]
    }
   ],
   "source": [
    "from datetime import datetime as dt\n",
    "hoy = dt.today().strftime(\"%d-%b-%y a las %H:%M:%S\")\n",
    "\n",
    "print(hoy)"
   ]
  },
  {
   "cell_type": "code",
   "execution_count": 2,
   "metadata": {},
   "outputs": [],
   "source": [
    "from selenium import webdriver\n",
    "from bs4 import BeautifulSoup\n",
    "import time"
   ]
  },
  {
   "cell_type": "code",
   "execution_count": 3,
   "metadata": {},
   "outputs": [],
   "source": [
    "# Utilizando Chromedriver que esta en este mismo directorio\n",
    "browser = webdriver.Chrome()"
   ]
  },
  {
   "cell_type": "code",
   "execution_count": 4,
   "metadata": {},
   "outputs": [],
   "source": [
    "pagina_tuit_del_concurso = \"https://twitter.com/tacosdedatos/status/1129044268759289858\""
   ]
  },
  {
   "cell_type": "code",
   "execution_count": 5,
   "metadata": {},
   "outputs": [],
   "source": [
    "# We get the page and wait 2 seconds so the javascript code will run and load the table\n",
    "browser.get(pagina_tuit_del_concurso)\n",
    "time.sleep(0.5)"
   ]
  },
  {
   "cell_type": "markdown",
   "metadata": {},
   "source": [
    "En el browser, como el tuit es una ventana pop-up tenemos que bajar hasta el fondo _manualmente_ para \"cargar\" todos los tuits al html de la pagina.\n",
    "\n",
    "\n",
    "# MANUALMENTE MUEVE LA VENTANA HASTA EL FONDO"
   ]
  },
  {
   "cell_type": "code",
   "execution_count": 6,
   "metadata": {},
   "outputs": [],
   "source": [
    "replies = browser.find_elements_by_class_name(\"tweet\")"
   ]
  },
  {
   "cell_type": "code",
   "execution_count": 7,
   "metadata": {},
   "outputs": [
    {
     "data": {
      "text/plain": [
       "98"
      ]
     },
     "execution_count": 7,
     "metadata": {},
     "output_type": "execute_result"
    }
   ],
   "source": [
    "len(replies)"
   ]
  },
  {
   "cell_type": "code",
   "execution_count": 8,
   "metadata": {},
   "outputs": [],
   "source": [
    "elements_html = []\n",
    "for element in replies:\n",
    "    inner_html = element.get_attribute(\"outerHTML\")\n",
    "    #replying_to = element.get_attribute(\"class\")\n",
    "    elements_html.append(inner_html)"
   ]
  },
  {
   "cell_type": "code",
   "execution_count": 9,
   "metadata": {},
   "outputs": [],
   "source": [
    "cleaned_list = []\n",
    "for item in elements_html:\n",
    "    bs = BeautifulSoup(item)\n",
    "    cleaned_list.append(bs)"
   ]
  },
  {
   "cell_type": "code",
   "execution_count": 10,
   "metadata": {},
   "outputs": [],
   "source": [
    "soup_1 = cleaned_list[3]"
   ]
  },
  {
   "cell_type": "code",
   "execution_count": 11,
   "metadata": {},
   "outputs": [
    {
     "data": {
      "text/plain": [
       "49"
      ]
     },
     "execution_count": 11,
     "metadata": {},
     "output_type": "execute_result"
    }
   ],
   "source": [
    "tuits = [element for element in cleaned_list if \"Replying to @tacosdedatos\" in element.get_text()]\n",
    "\n",
    "len(tuits)"
   ]
  },
  {
   "cell_type": "code",
   "execution_count": 12,
   "metadata": {},
   "outputs": [],
   "source": [
    "nombre_cuenta = [tuit.get_text().strip().split(\"\\n\")[0] for tuit in tuits]"
   ]
  },
  {
   "cell_type": "code",
   "execution_count": 13,
   "metadata": {},
   "outputs": [
    {
     "data": {
      "text/plain": [
       "49"
      ]
     },
     "execution_count": 13,
     "metadata": {},
     "output_type": "execute_result"
    }
   ],
   "source": [
    "len(nombre_cuenta)"
   ]
  },
  {
   "cell_type": "code",
   "execution_count": 14,
   "metadata": {},
   "outputs": [
    {
     "name": "stdout",
     "output_type": "stream",
     "text": [
      "Carlos A. Matus‏ @Caranarq\n",
      "Carlos A. Matus‏ @Caranarq\n",
      "Manuel Toral‏ @jmtoralc\n",
      "Manuel Toral‏ @jmtoralc\n",
      "alejandro‏ @blueman_ale\n",
      "alejandro‏ @blueman_ale\n",
      "Eipril Makeyn‏ @DeepEvergreen\n",
      "Eipril Makeyn‏ @DeepEvergreen\n",
      "Daniel Avila‏ @Daniel_AvOr\n",
      "Daniel Avila‏ @Daniel_AvOr\n",
      "Isa Buriticá  🇨🇴‏ @iris9112\n",
      "Irving MA‏ @moaimx\n",
      "Sebastián Arcos‏ @SebastianArcosR\n",
      "yezzu‏ @AI_isOnline\n",
      "𝖱𝗈𝖽𝗈 𝖥𝖾𝗋𝗋𝗈  🐍‏ @FerroRodolfo\n",
      "Maravilla  🐑‏ @RamMaravilla\n",
      "Emmanuel‏ @Landa23\n",
      "Steph‏ @tffxx\n",
      "YaNiPaper‏ @YaNiPaper\n",
      "carlos mora‏ @betomoram\n",
      "Julio Cesar Muñoz‏ @Alseides\n",
      "Juvenal‏ @JuvenalCamposF\n",
      "Nerus‏ @nerudista\n",
      "Edwin Mendivil Barceló‏ @vizualdatos\n",
      "Monica Zamudio‏ @monnzl\n",
      "Miguel A. Ortiz Acuña‏ @miangeltiz20\n",
      "Jose Antonio Sanchez‏ @pepe6\n",
      "El Guille‏ @trollguille\n",
      "Daniel Avila‏ @Daniel_AvOr\n",
      "David E. Jimenez‏ @visionarioso\n",
      "Mariana Menchero  🐼‏ @mmencherogarcia\n",
      "Jean Benitez‏ @JotaBendi\n",
      "Mariana Daza‏ @marianadazaor\n",
      "Martin Szy‏ @MartinSzy\n",
      "kill -9 -1‏ @ox1d0\n",
      "Alan Velasco‏ @alanbato\n",
      "Alan Velasco‏ @alanbato\n",
      "Judite Cypreste‏Verified account @juditecypreste\n",
      "Judite Cypreste‏Verified account @juditecypreste\n",
      "Santiago Salcido‏ @santiagosalcido\n",
      "Karina Soto‏ @karina_urbanita\n",
      "Man Lio‏ @Jarl_Man_Lio\n",
      "Aldo‏ @Aldo_Ea\n",
      "Rafa‏ @GonzalezGouveia\n",
      "Beto Borbolla‏ @xcoatl\n",
      "Beto Borbolla‏ @xcoatl\n",
      "Escritor fracasado‏ @pinguinoarrecho\n",
      "nekrum‏ @nekrum\n",
      "Victor Silva‏ @VickSil1\n"
     ]
    }
   ],
   "source": [
    "for nombre in nombre_cuenta:\n",
    "    print(nombre)"
   ]
  },
  {
   "cell_type": "code",
   "execution_count": 15,
   "metadata": {},
   "outputs": [],
   "source": [
    "import numpy as np"
   ]
  },
  {
   "cell_type": "code",
   "execution_count": 16,
   "metadata": {},
   "outputs": [],
   "source": [
    "nombre_cuentas = np.array(nombre_cuenta)"
   ]
  },
  {
   "cell_type": "code",
   "execution_count": 17,
   "metadata": {},
   "outputs": [
    {
     "data": {
      "text/plain": [
       "40"
      ]
     },
     "execution_count": 17,
     "metadata": {},
     "output_type": "execute_result"
    }
   ],
   "source": [
    "cuentas_unicas = np.unique(nombre_cuentas)\n",
    "len(cuentas_unicas)"
   ]
  },
  {
   "cell_type": "code",
   "execution_count": 18,
   "metadata": {},
   "outputs": [
    {
     "name": "stdout",
     "output_type": "stream",
     "text": [
      "Alan Velasco‏ @alanbato\n",
      "Aldo‏ @Aldo_Ea\n",
      "Beto Borbolla‏ @xcoatl\n",
      "Carlos A. Matus‏ @Caranarq\n",
      "Daniel Avila‏ @Daniel_AvOr\n",
      "David E. Jimenez‏ @visionarioso\n",
      "Edwin Mendivil Barceló‏ @vizualdatos\n",
      "Eipril Makeyn‏ @DeepEvergreen\n",
      "El Guille‏ @trollguille\n",
      "Emmanuel‏ @Landa23\n",
      "Escritor fracasado‏ @pinguinoarrecho\n",
      "Irving MA‏ @moaimx\n",
      "Isa Buriticá  🇨🇴‏ @iris9112\n",
      "Jean Benitez‏ @JotaBendi\n",
      "Jose Antonio Sanchez‏ @pepe6\n",
      "Judite Cypreste‏Verified account @juditecypreste\n",
      "Julio Cesar Muñoz‏ @Alseides\n",
      "Juvenal‏ @JuvenalCamposF\n",
      "Karina Soto‏ @karina_urbanita\n",
      "Man Lio‏ @Jarl_Man_Lio\n",
      "Manuel Toral‏ @jmtoralc\n",
      "Maravilla  🐑‏ @RamMaravilla\n",
      "Mariana Daza‏ @marianadazaor\n",
      "Mariana Menchero  🐼‏ @mmencherogarcia\n",
      "Martin Szy‏ @MartinSzy\n",
      "Miguel A. Ortiz Acuña‏ @miangeltiz20\n",
      "Monica Zamudio‏ @monnzl\n",
      "Nerus‏ @nerudista\n",
      "Rafa‏ @GonzalezGouveia\n",
      "Santiago Salcido‏ @santiagosalcido\n",
      "Sebastián Arcos‏ @SebastianArcosR\n",
      "Steph‏ @tffxx\n",
      "Victor Silva‏ @VickSil1\n",
      "YaNiPaper‏ @YaNiPaper\n",
      "alejandro‏ @blueman_ale\n",
      "carlos mora‏ @betomoram\n",
      "kill -9 -1‏ @ox1d0\n",
      "nekrum‏ @nekrum\n",
      "yezzu‏ @AI_isOnline\n",
      "𝖱𝗈𝖽𝗈 𝖥𝖾𝗋𝗋𝗈  🐍‏ @FerroRodolfo\n"
     ]
    }
   ],
   "source": [
    "for cuenta in cuentas_unicas:\n",
    "    print(cuenta)"
   ]
  },
  {
   "cell_type": "markdown",
   "metadata": {},
   "source": [
    "Este numero va a cambiar cada que ejecutemos el codigo pero solo lo ocupamos una ves para crear la \"semilla\" del que se crearan los numeros random. Asi podemos mantener nuestros resultados un poco mas \"reproducibles\""
   ]
  },
  {
   "cell_type": "code",
   "execution_count": 19,
   "metadata": {},
   "outputs": [
    {
     "data": {
      "text/plain": [
       "37"
      ]
     },
     "execution_count": 19,
     "metadata": {},
     "output_type": "execute_result"
    }
   ],
   "source": [
    "np.random.randint(low = 0, high = 100)"
   ]
  },
  {
   "cell_type": "code",
   "execution_count": 20,
   "metadata": {},
   "outputs": [],
   "source": [
    "np.random.seed(37)"
   ]
  },
  {
   "cell_type": "code",
   "execution_count": 21,
   "metadata": {},
   "outputs": [
    {
     "name": "stdout",
     "output_type": "stream",
     "text": [
      "Judite Cypreste‏Verified account @juditecypreste\n"
     ]
    }
   ],
   "source": [
    "print(np.random.choice(cuentas_unicas))"
   ]
  },
  {
   "cell_type": "markdown",
   "metadata": {},
   "source": [
    "la verdad yo no se de web scraping tanto como quisiera y la API de twitter no es como que \"guau que impresionante\" asi que ya teninendo esta cuenta vamos a verificar manualmente que tambien le haya dado like y retuit al tuit "
   ]
  },
  {
   "cell_type": "markdown",
   "metadata": {},
   "source": [
    ":O Judite gano!! <3\n",
    "shout out a brasil!"
   ]
  }
 ],
 "metadata": {
  "kernelspec": {
   "display_name": "Python 3",
   "language": "python",
   "name": "python3"
  },
  "language_info": {
   "codemirror_mode": {
    "name": "ipython",
    "version": 3
   },
   "file_extension": ".py",
   "mimetype": "text/x-python",
   "name": "python",
   "nbconvert_exporter": "python",
   "pygments_lexer": "ipython3",
   "version": "3.7.3"
  }
 },
 "nbformat": 4,
 "nbformat_minor": 2
}
